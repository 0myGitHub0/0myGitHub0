{
 "cells": [
  {
   "cell_type": "markdown",
   "id": "16c55ec4",
   "metadata": {},
   "source": [
    "# Data Science Tools and Ecosystem"
   ]
  },
  {
   "cell_type": "markdown",
   "id": "40d99469",
   "metadata": {},
   "source": [
    "In this notebook, Data Science Tools and Ecosystem are summarized."
   ]
  },
  {
   "cell_type": "markdown",
   "id": "7b91f30f",
   "metadata": {},
   "source": [
    "**Objectives:**\n",
    " \n",
    " •\tList the open-source data management tools.\n",
    " \n",
    " •\tList the open-source data integration and transformation tools.\n",
    " \n",
    " •\tList the data visualization tools.\n",
    " \n",
    " •\tList the model tools for building, deployment, monitoring, and assessment\n",
    " \n",
    " •\tList tools for code and data asset management.\n",
    "\n"
   ]
  },
  {
   "cell_type": "markdown",
   "id": "7c48abaf",
   "metadata": {},
   "source": [
    "Some of the popular languages that Data Scientists use are:\n",
    "\n",
    " 1.Python\n",
    " \n",
    " 2.R\n",
    " \n",
    " 3.SQL"
   ]
  },
  {
   "cell_type": "markdown",
   "id": "2ffb7c3b",
   "metadata": {},
   "source": [
    "Some of the commonly used libraries used by Data Scientists include:\n",
    "\n",
    " 1.NumPy\n",
    " \n",
    " 2.Matplotlib\n",
    " \n",
    " 3.Pandas\n",
    " \n",
    " 4.SciPy\n",
    " \n",
    " 5.PyTorch"
   ]
  },
  {
   "cell_type": "markdown",
   "id": "a4179fbf",
   "metadata": {},
   "source": [
    "|Data Science Tools|\n",
    "|------------------|\n",
    "|Jupyter lab |\n",
    "|RStudio|\n",
    "|IBM Watson Studio|"
   ]
  },
  {
   "cell_type": "markdown",
   "id": "e779b74b",
   "metadata": {},
   "source": [
    "### Below are a few examples of evaluating arithmetic expressions in Python."
   ]
  },
  {
   "cell_type": "code",
   "execution_count": 3,
   "id": "31f6e0d2",
   "metadata": {},
   "outputs": [
    {
     "data": {
      "text/plain": [
       "17"
      ]
     },
     "execution_count": 3,
     "metadata": {},
     "output_type": "execute_result"
    }
   ],
   "source": [
    "#This a simple arithmetic expression to mutiply then add integers\n",
    "(3*4)+5"
   ]
  },
  {
   "cell_type": "code",
   "execution_count": 4,
   "id": "43c6425d",
   "metadata": {},
   "outputs": [
    {
     "data": {
      "text/plain": [
       "3.3333333333333335"
      ]
     },
     "execution_count": 4,
     "metadata": {},
     "output_type": "execute_result"
    }
   ],
   "source": [
    "#This will convert 200 minutes to hours by diving by 60\n",
    "200/60"
   ]
  },
  {
   "cell_type": "markdown",
   "id": "744f5d00",
   "metadata": {},
   "source": [
    "## Author\n",
    "Leila Saeidmoshirabad"
   ]
  },
  {
   "cell_type": "code",
   "execution_count": null,
   "id": "20dd9dfb",
   "metadata": {},
   "outputs": [],
   "source": []
  },
  {
   "cell_type": "markdown",
   "id": "b494554d",
   "metadata": {},
   "source": []
  }
 ],
 "metadata": {
  "kernelspec": {
   "display_name": "Python 3 (ipykernel)",
   "language": "python",
   "name": "python3"
  },
  "language_info": {
   "codemirror_mode": {
    "name": "ipython",
    "version": 3
   },
   "file_extension": ".py",
   "mimetype": "text/x-python",
   "name": "python",
   "nbconvert_exporter": "python",
   "pygments_lexer": "ipython3",
   "version": "3.10.9"
  }
 },
 "nbformat": 4,
 "nbformat_minor": 5
}
